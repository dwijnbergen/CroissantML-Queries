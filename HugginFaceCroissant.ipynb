{
  "nbformat": 4,
  "nbformat_minor": 0,
  "metadata": {
    "colab": {
      "provenance": []
    },
    "kernelspec": {
      "name": "python3",
      "display_name": "Python 3"
    },
    "language_info": {
      "name": "python"
    }
  },
  "cells": [
    {
      "cell_type": "markdown",
      "source": [
        "# Environment"
      ],
      "metadata": {
        "id": "cBHFWsuAH3AT"
      }
    },
    {
      "cell_type": "code",
      "execution_count": 2,
      "metadata": {
        "colab": {
          "base_uri": "https://localhost:8080/"
        },
        "id": "6QA_YCNow0Zz",
        "outputId": "210a5a9d-65cd-4489-f53f-3e1d5e518253",
        "collapsed": true
      },
      "outputs": [
        {
          "output_type": "stream",
          "name": "stdout",
          "text": [
            "Collecting mlcroissant\n",
            "  Downloading mlcroissant-1.0.10-py2.py3-none-any.whl.metadata (10 kB)\n",
            "Requirement already satisfied: absl-py in /usr/local/lib/python3.10/dist-packages (from mlcroissant) (1.4.0)\n",
            "Requirement already satisfied: etils>=1.7.0 in /usr/local/lib/python3.10/dist-packages (from etils[epath]>=1.7.0->mlcroissant) (1.10.0)\n",
            "Collecting jsonpath-rw (from mlcroissant)\n",
            "  Downloading jsonpath-rw-1.4.0.tar.gz (13 kB)\n",
            "  Preparing metadata (setup.py) ... \u001b[?25l\u001b[?25hdone\n",
            "Requirement already satisfied: networkx in /usr/local/lib/python3.10/dist-packages (from mlcroissant) (3.4.2)\n",
            "Requirement already satisfied: pandas in /usr/local/lib/python3.10/dist-packages (from mlcroissant) (2.2.2)\n",
            "Requirement already satisfied: pandas-stubs in /usr/local/lib/python3.10/dist-packages (from mlcroissant) (2.2.2.240909)\n",
            "Requirement already satisfied: python-dateutil in /usr/local/lib/python3.10/dist-packages (from mlcroissant) (2.8.2)\n",
            "Collecting rdflib (from mlcroissant)\n",
            "  Downloading rdflib-7.1.1-py3-none-any.whl.metadata (11 kB)\n",
            "Requirement already satisfied: requests in /usr/local/lib/python3.10/dist-packages (from mlcroissant) (2.32.3)\n",
            "Requirement already satisfied: tqdm in /usr/local/lib/python3.10/dist-packages (from mlcroissant) (4.66.6)\n",
            "Requirement already satisfied: fsspec in /usr/local/lib/python3.10/dist-packages (from etils[epath]>=1.7.0->mlcroissant) (2024.10.0)\n",
            "Requirement already satisfied: importlib_resources in /usr/local/lib/python3.10/dist-packages (from etils[epath]>=1.7.0->mlcroissant) (6.4.5)\n",
            "Requirement already satisfied: typing_extensions in /usr/local/lib/python3.10/dist-packages (from etils[epath]>=1.7.0->mlcroissant) (4.12.2)\n",
            "Requirement already satisfied: zipp in /usr/local/lib/python3.10/dist-packages (from etils[epath]>=1.7.0->mlcroissant) (3.20.2)\n",
            "Collecting ply (from jsonpath-rw->mlcroissant)\n",
            "  Downloading ply-3.11-py2.py3-none-any.whl.metadata (844 bytes)\n",
            "Requirement already satisfied: decorator in /usr/local/lib/python3.10/dist-packages (from jsonpath-rw->mlcroissant) (4.4.2)\n",
            "Requirement already satisfied: six in /usr/local/lib/python3.10/dist-packages (from jsonpath-rw->mlcroissant) (1.16.0)\n",
            "Requirement already satisfied: numpy>=1.22.4 in /usr/local/lib/python3.10/dist-packages (from pandas->mlcroissant) (1.26.4)\n",
            "Requirement already satisfied: pytz>=2020.1 in /usr/local/lib/python3.10/dist-packages (from pandas->mlcroissant) (2024.2)\n",
            "Requirement already satisfied: tzdata>=2022.7 in /usr/local/lib/python3.10/dist-packages (from pandas->mlcroissant) (2024.2)\n",
            "Requirement already satisfied: types-pytz>=2022.1.1 in /usr/local/lib/python3.10/dist-packages (from pandas-stubs->mlcroissant) (2024.2.0.20241003)\n",
            "Collecting isodate<1.0.0,>=0.7.2 (from rdflib->mlcroissant)\n",
            "  Downloading isodate-0.7.2-py3-none-any.whl.metadata (11 kB)\n",
            "Requirement already satisfied: pyparsing<4,>=2.1.0 in /usr/local/lib/python3.10/dist-packages (from rdflib->mlcroissant) (3.2.0)\n",
            "Requirement already satisfied: charset-normalizer<4,>=2 in /usr/local/lib/python3.10/dist-packages (from requests->mlcroissant) (3.4.0)\n",
            "Requirement already satisfied: idna<4,>=2.5 in /usr/local/lib/python3.10/dist-packages (from requests->mlcroissant) (3.10)\n",
            "Requirement already satisfied: urllib3<3,>=1.21.1 in /usr/local/lib/python3.10/dist-packages (from requests->mlcroissant) (2.2.3)\n",
            "Requirement already satisfied: certifi>=2017.4.17 in /usr/local/lib/python3.10/dist-packages (from requests->mlcroissant) (2024.8.30)\n",
            "Downloading mlcroissant-1.0.10-py2.py3-none-any.whl (136 kB)\n",
            "\u001b[2K   \u001b[90m━━━━━━━━━━━━━━━━━━━━━━━━━━━━━━━━━━━━━━━━\u001b[0m \u001b[32m136.5/136.5 kB\u001b[0m \u001b[31m2.3 MB/s\u001b[0m eta \u001b[36m0:00:00\u001b[0m\n",
            "\u001b[?25hDownloading rdflib-7.1.1-py3-none-any.whl (562 kB)\n",
            "\u001b[2K   \u001b[90m━━━━━━━━━━━━━━━━━━━━━━━━━━━━━━━━━━━━━━━━\u001b[0m \u001b[32m562.4/562.4 kB\u001b[0m \u001b[31m14.7 MB/s\u001b[0m eta \u001b[36m0:00:00\u001b[0m\n",
            "\u001b[?25hDownloading isodate-0.7.2-py3-none-any.whl (22 kB)\n",
            "Downloading ply-3.11-py2.py3-none-any.whl (49 kB)\n",
            "\u001b[2K   \u001b[90m━━━━━━━━━━━━━━━━━━━━━━━━━━━━━━━━━━━━━━━━\u001b[0m \u001b[32m49.6/49.6 kB\u001b[0m \u001b[31m3.4 MB/s\u001b[0m eta \u001b[36m0:00:00\u001b[0m\n",
            "\u001b[?25hBuilding wheels for collected packages: jsonpath-rw\n",
            "  Building wheel for jsonpath-rw (setup.py) ... \u001b[?25l\u001b[?25hdone\n",
            "  Created wheel for jsonpath-rw: filename=jsonpath_rw-1.4.0-py3-none-any.whl size=15130 sha256=5cc6269060d32e134dd58c6f7b30e8d3635a7a4a581bc86a938f0a7c24afa750\n",
            "  Stored in directory: /root/.cache/pip/wheels/e3/76/6f/c25be6a9e6cc9985b96e8c95997d46790242c6426ef68e754c\n",
            "Successfully built jsonpath-rw\n",
            "Installing collected packages: ply, jsonpath-rw, isodate, rdflib, mlcroissant\n",
            "Successfully installed isodate-0.7.2 jsonpath-rw-1.4.0 mlcroissant-1.0.10 ply-3.11 rdflib-7.1.1\n",
            "Requirement already satisfied: rdflib in /usr/local/lib/python3.10/dist-packages (7.1.1)\n",
            "Requirement already satisfied: isodate<1.0.0,>=0.7.2 in /usr/local/lib/python3.10/dist-packages (from rdflib) (0.7.2)\n",
            "Requirement already satisfied: pyparsing<4,>=2.1.0 in /usr/local/lib/python3.10/dist-packages (from rdflib) (3.2.0)\n",
            "Requirement already satisfied: pandas in /usr/local/lib/python3.10/dist-packages (2.2.2)\n",
            "Requirement already satisfied: numpy>=1.22.4 in /usr/local/lib/python3.10/dist-packages (from pandas) (1.26.4)\n",
            "Requirement already satisfied: python-dateutil>=2.8.2 in /usr/local/lib/python3.10/dist-packages (from pandas) (2.8.2)\n",
            "Requirement already satisfied: pytz>=2020.1 in /usr/local/lib/python3.10/dist-packages (from pandas) (2024.2)\n",
            "Requirement already satisfied: tzdata>=2022.7 in /usr/local/lib/python3.10/dist-packages (from pandas) (2024.2)\n",
            "Requirement already satisfied: six>=1.5 in /usr/local/lib/python3.10/dist-packages (from python-dateutil>=2.8.2->pandas) (1.16.0)\n"
          ]
        }
      ],
      "source": [
        "!pip3 install mlcroissant\n",
        "!pip3 install rdflib\n",
        "!pip3 install pandas\n",
        "import mlcroissant as mlc\n",
        "from rdflib import Graph, Namespace, URIRef, Literal\n",
        "import json\n",
        "import pandas as pd"
      ]
    },
    {
      "cell_type": "markdown",
      "source": [
        "# Load HuggingFace RDF"
      ],
      "metadata": {
        "id": "faJ7b-PBIExV"
      }
    },
    {
      "cell_type": "code",
      "source": [
        "# Smaller dataset\n",
        "g = Graph().parse('https://github.com/david4096/huggingface-rdf/releases/download/data-release/huggingface.ttl?download=true', format='ttl')\n",
        "# Larger dataset\n",
        "# g = Graph().parse('https://huggingface.co/datasets/david4096/huggingface-ttl/resolve/main/huggingface-30k.ttl?download=true', format='ttl')\n"
      ],
      "metadata": {
        "id": "4t5QFKlaF364"
      },
      "execution_count": 3,
      "outputs": []
    },
    {
      "cell_type": "markdown",
      "source": [
        "# Queries"
      ],
      "metadata": {
        "id": "xfal7cV6IUYQ"
      }
    },
    {
      "cell_type": "markdown",
      "source": [
        "Query to get property counts by dataset\n",
        "\n",
        "List of classes: (to be completed)\n",
        "\n",
        "*   https://schema.org/Dataset\n",
        "*   http://mlcommons.org/croissant/RecordSet"
      ],
      "metadata": {
        "id": "A5xWzUHCIpa5"
      }
    },
    {
      "cell_type": "code",
      "source": [
        "# @title Query number of each property of each class\n",
        "class_URI = \"https://schema.org/Dataset\" # @param {\"type\":\"string\",\"placeholder\":\"https://schema.org/Dataset\"}\n",
        "query = \"\"\"\n",
        "\n",
        "\n",
        "SELECT ?dataset ?dataset_name ?predicate (count(?o) as ?predicate_count)\n",
        "WHERE {\n",
        "    ?dataset <http://www.w3.org/1999/02/22-rdf-syntax-ns#type> <\"\"\"+class_URI+\"\"\"> .\n",
        "    ?dataset ?predicate ?o .\n",
        "    OPTIONAL { ?dataset <https://schema.org/name> ?dataset_name . }\n",
        "}\n",
        "GROUP BY ?predicate ?dataset\n",
        "\"\"\"\n",
        "print(query)\n",
        "\n",
        "qres = g.query(query)\n",
        "# for row in qres:\n",
        "#     print(f\"Dataset: {row.dataset_name} Predicate: {row.predicate} Count: {row.predicate_count}\")"
      ],
      "metadata": {
        "id": "FETzlYlTaMG-",
        "colab": {
          "base_uri": "https://localhost:8080/"
        },
        "cellView": "form",
        "outputId": "2414e3d6-de59-47fe-96d7-8467056bfb07"
      },
      "execution_count": 20,
      "outputs": [
        {
          "output_type": "stream",
          "name": "stdout",
          "text": [
            "\n",
            "\n",
            "\n",
            "SELECT ?dataset ?dataset_name ?predicate (count(?o) as ?predicate_count)\n",
            "WHERE {\n",
            "    ?dataset <http://www.w3.org/1999/02/22-rdf-syntax-ns#type> <https://schema.org/Dataset> .\n",
            "    ?dataset ?predicate ?o .\n",
            "    OPTIONAL { ?dataset <https://schema.org/name> ?dataset_name . }\n",
            "}\n",
            "GROUP BY ?predicate ?dataset\n",
            "\n"
          ]
        }
      ]
    },
    {
      "cell_type": "markdown",
      "source": [
        "# Export data"
      ],
      "metadata": {
        "id": "4ZCnnjLuIWxC"
      }
    },
    {
      "cell_type": "markdown",
      "source": [
        "Export to TSV"
      ],
      "metadata": {
        "id": "_gh69DNrMO_-"
      }
    },
    {
      "cell_type": "code",
      "source": [
        "with open(\"query_results.tsv\", \"w\") as outfile:\n",
        "  first_row = True\n",
        "  for row in qres:\n",
        "    if first_row:\n",
        "      for label in row.labels.keys():\n",
        "        outfile.write(label + \"\\t\")\n",
        "      outfile.write(\"\\n\")\n",
        "      first_row = False\n",
        "    for value in row:\n",
        "      outfile.write(value + \"\\t\")\n",
        "    outfile.write(\"\\n\")"
      ],
      "metadata": {
        "id": "uhQk0jWzjpPW"
      },
      "execution_count": 21,
      "outputs": []
    },
    {
      "cell_type": "code",
      "source": [
        "df = pd.read_csv(\"query_results.tsv\", sep = \"\\t\")"
      ],
      "metadata": {
        "id": "PclzrQ32CDSc"
      },
      "execution_count": 22,
      "outputs": []
    },
    {
      "cell_type": "code",
      "source": [
        "print(df['predicate'].value_counts())"
      ],
      "metadata": {
        "colab": {
          "base_uri": "https://localhost:8080/"
        },
        "id": "RG_2z09LCWmj",
        "outputId": "c6722714-7bb5-43b7-d021-7cdf849ac50c"
      },
      "execution_count": 23,
      "outputs": [
        {
          "output_type": "stream",
          "name": "stdout",
          "text": [
            "predicate\n",
            "http://www.w3.org/1999/02/22-rdf-syntax-ns#type    2428\n",
            "http://purl.org/dc/terms/conformsTo                2428\n",
            "https://schema.org/alternateName                   2428\n",
            "https://schema.org/creator                         2428\n",
            "https://schema.org/description                     2428\n",
            "https://schema.org/distribution                    2428\n",
            "https://schema.org/keywords                        2428\n",
            "https://schema.org/name                            2428\n",
            "https://schema.org/url                             2428\n",
            "http://mlcommons.org/croissant/recordSet           2208\n",
            "https://schema.org/sameAs                           713\n",
            "https://schema.org/license                          695\n",
            "https://schema.org/identifier                         5\n",
            "Name: count, dtype: int64\n"
          ]
        }
      ]
    },
    {
      "cell_type": "markdown",
      "source": [
        "# Archive"
      ],
      "metadata": {
        "id": "Wa49cjeSL1iK"
      }
    },
    {
      "cell_type": "markdown",
      "source": [
        "# Generate ttl"
      ],
      "metadata": {
        "id": "VJtWaxUQH8xQ"
      }
    },
    {
      "cell_type": "code",
      "source": [
        "urls = [\"https://huggingface.co/api/datasets/fashion_mnist/croissant\", \"https://huggingface.co/api/datasets/abisee/cnn_dailymail/croissant\"]\n",
        "baseurl = \"http://example.org/\"\n",
        "g = Graph()\n",
        "\n",
        "for url in urls:\n",
        "  json_metadata = mlc.Dataset(url).metadata.to_json()\n",
        "\n",
        "  g.parse(\n",
        "      data=json.dumps(json_metadata),\n",
        "      format='json-ld',\n",
        "      base=URIRef(baseurl)\n",
        "  )\n",
        "\n",
        "print(g.serialize(format='ttl'))"
      ],
      "metadata": {
        "id": "BEV0YquOw7oB"
      },
      "execution_count": null,
      "outputs": []
    }
  ]
}