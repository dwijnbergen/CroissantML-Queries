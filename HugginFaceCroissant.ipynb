{
  "nbformat": 4,
  "nbformat_minor": 0,
  "metadata": {
    "colab": {
      "provenance": []
    },
    "kernelspec": {
      "name": "python3",
      "display_name": "Python 3"
    },
    "language_info": {
      "name": "python"
    }
  },
  "cells": [
    {
      "cell_type": "markdown",
      "source": [
        "# Environment"
      ],
      "metadata": {
        "id": "cBHFWsuAH3AT"
      }
    },
    {
      "cell_type": "code",
      "execution_count": 67,
      "metadata": {
        "colab": {
          "base_uri": "https://localhost:8080/"
        },
        "id": "6QA_YCNow0Zz",
        "outputId": "01e97d97-8fd2-4837-b461-79072761f4aa",
        "collapsed": true
      },
      "outputs": [
        {
          "output_type": "stream",
          "name": "stdout",
          "text": [
            "Requirement already satisfied: mlcroissant in /usr/local/lib/python3.10/dist-packages (1.0.10)\n",
            "Requirement already satisfied: absl-py in /usr/local/lib/python3.10/dist-packages (from mlcroissant) (1.4.0)\n",
            "Requirement already satisfied: etils>=1.7.0 in /usr/local/lib/python3.10/dist-packages (from etils[epath]>=1.7.0->mlcroissant) (1.10.0)\n",
            "Requirement already satisfied: jsonpath-rw in /usr/local/lib/python3.10/dist-packages (from mlcroissant) (1.4.0)\n",
            "Requirement already satisfied: networkx in /usr/local/lib/python3.10/dist-packages (from mlcroissant) (3.4.2)\n",
            "Requirement already satisfied: pandas in /usr/local/lib/python3.10/dist-packages (from mlcroissant) (2.2.2)\n",
            "Requirement already satisfied: pandas-stubs in /usr/local/lib/python3.10/dist-packages (from mlcroissant) (2.2.2.240909)\n",
            "Requirement already satisfied: python-dateutil in /usr/local/lib/python3.10/dist-packages (from mlcroissant) (2.8.2)\n",
            "Requirement already satisfied: rdflib in /usr/local/lib/python3.10/dist-packages (from mlcroissant) (7.1.1)\n",
            "Requirement already satisfied: requests in /usr/local/lib/python3.10/dist-packages (from mlcroissant) (2.32.3)\n",
            "Requirement already satisfied: tqdm in /usr/local/lib/python3.10/dist-packages (from mlcroissant) (4.66.6)\n",
            "Requirement already satisfied: fsspec in /usr/local/lib/python3.10/dist-packages (from etils[epath]>=1.7.0->mlcroissant) (2024.10.0)\n",
            "Requirement already satisfied: importlib_resources in /usr/local/lib/python3.10/dist-packages (from etils[epath]>=1.7.0->mlcroissant) (6.4.5)\n",
            "Requirement already satisfied: typing_extensions in /usr/local/lib/python3.10/dist-packages (from etils[epath]>=1.7.0->mlcroissant) (4.12.2)\n",
            "Requirement already satisfied: zipp in /usr/local/lib/python3.10/dist-packages (from etils[epath]>=1.7.0->mlcroissant) (3.20.2)\n",
            "Requirement already satisfied: ply in /usr/local/lib/python3.10/dist-packages (from jsonpath-rw->mlcroissant) (3.11)\n",
            "Requirement already satisfied: decorator in /usr/local/lib/python3.10/dist-packages (from jsonpath-rw->mlcroissant) (4.4.2)\n",
            "Requirement already satisfied: six in /usr/local/lib/python3.10/dist-packages (from jsonpath-rw->mlcroissant) (1.16.0)\n",
            "Requirement already satisfied: numpy>=1.22.4 in /usr/local/lib/python3.10/dist-packages (from pandas->mlcroissant) (1.26.4)\n",
            "Requirement already satisfied: pytz>=2020.1 in /usr/local/lib/python3.10/dist-packages (from pandas->mlcroissant) (2024.2)\n",
            "Requirement already satisfied: tzdata>=2022.7 in /usr/local/lib/python3.10/dist-packages (from pandas->mlcroissant) (2024.2)\n",
            "Requirement already satisfied: types-pytz>=2022.1.1 in /usr/local/lib/python3.10/dist-packages (from pandas-stubs->mlcroissant) (2024.2.0.20241003)\n",
            "Requirement already satisfied: isodate<1.0.0,>=0.7.2 in /usr/local/lib/python3.10/dist-packages (from rdflib->mlcroissant) (0.7.2)\n",
            "Requirement already satisfied: pyparsing<4,>=2.1.0 in /usr/local/lib/python3.10/dist-packages (from rdflib->mlcroissant) (3.2.0)\n",
            "Requirement already satisfied: charset-normalizer<4,>=2 in /usr/local/lib/python3.10/dist-packages (from requests->mlcroissant) (3.4.0)\n",
            "Requirement already satisfied: idna<4,>=2.5 in /usr/local/lib/python3.10/dist-packages (from requests->mlcroissant) (3.10)\n",
            "Requirement already satisfied: urllib3<3,>=1.21.1 in /usr/local/lib/python3.10/dist-packages (from requests->mlcroissant) (2.2.3)\n",
            "Requirement already satisfied: certifi>=2017.4.17 in /usr/local/lib/python3.10/dist-packages (from requests->mlcroissant) (2024.8.30)\n",
            "Requirement already satisfied: rdflib in /usr/local/lib/python3.10/dist-packages (7.1.1)\n",
            "Requirement already satisfied: isodate<1.0.0,>=0.7.2 in /usr/local/lib/python3.10/dist-packages (from rdflib) (0.7.2)\n",
            "Requirement already satisfied: pyparsing<4,>=2.1.0 in /usr/local/lib/python3.10/dist-packages (from rdflib) (3.2.0)\n",
            "Requirement already satisfied: pandas in /usr/local/lib/python3.10/dist-packages (2.2.2)\n",
            "Requirement already satisfied: numpy>=1.22.4 in /usr/local/lib/python3.10/dist-packages (from pandas) (1.26.4)\n",
            "Requirement already satisfied: python-dateutil>=2.8.2 in /usr/local/lib/python3.10/dist-packages (from pandas) (2.8.2)\n",
            "Requirement already satisfied: pytz>=2020.1 in /usr/local/lib/python3.10/dist-packages (from pandas) (2024.2)\n",
            "Requirement already satisfied: tzdata>=2022.7 in /usr/local/lib/python3.10/dist-packages (from pandas) (2024.2)\n",
            "Requirement already satisfied: six>=1.5 in /usr/local/lib/python3.10/dist-packages (from python-dateutil>=2.8.2->pandas) (1.16.0)\n"
          ]
        }
      ],
      "source": [
        "!pip3 install mlcroissant\n",
        "!pip3 install rdflib\n",
        "!pip3 install pandas\n",
        "import mlcroissant as mlc\n",
        "from rdflib import Graph, Namespace, URIRef, Literal\n",
        "import json\n",
        "import pandas as pd"
      ]
    },
    {
      "cell_type": "markdown",
      "source": [
        "# Load HuggingFace RDF"
      ],
      "metadata": {
        "id": "faJ7b-PBIExV"
      }
    },
    {
      "cell_type": "code",
      "source": [
        "# Smaller dataset\n",
        "# g = Graph().parse('https://github.com/david4096/huggingface-rdf/releases/download/data-release/huggingface.ttl?download=true', format='ttl')\n",
        "# Larger dataset\n",
        "g = Graph().parse('https://huggingface.co/datasets/david4096/huggingface-ttl/resolve/main/huggingface-30k.ttl?download=true', format='ttl')\n"
      ],
      "metadata": {
        "id": "4t5QFKlaF364"
      },
      "execution_count": 68,
      "outputs": []
    },
    {
      "cell_type": "markdown",
      "source": [
        "# Queries"
      ],
      "metadata": {
        "id": "xfal7cV6IUYQ"
      }
    },
    {
      "cell_type": "markdown",
      "source": [
        "Query to get property counts by dataset\n",
        "\n",
        "List of classes:\n",
        "\n",
        "*   https://schema.org/Dataset\n",
        "    *   http://mlcommons.org/croissant/FileObject / http://mlcommons.org/croissant/FileSet\n",
        "        *   http://mlcommons.org/croissant/RecordSet\n",
        "            *   http://mlcommons.org/croissant/Field\n",
        "\n",
        "The following can not be obtained currently because they are described with blank nodes:\n",
        "*   http://mlcommons.org/croissant/DataSource\n",
        "    *   http://mlcommons.org/croissant/Extract\n",
        "    *   http://mlcommons.org/croissant/Transform\n",
        "    *   http://mlcommons.org/croissant/Format\n",
        "\n"
      ],
      "metadata": {
        "id": "A5xWzUHCIpa5"
      }
    },
    {
      "cell_type": "code",
      "source": [
        "# @title Query number of each property of each class\n",
        "class_URI = \"https://schema.org/Dataset\" # @param {\"type\":\"string\",\"placeholder\":\"https://schema.org/Dataset\"}\n",
        "query = \"\"\"\n",
        "\n",
        "\n",
        "SELECT ?dataset ?dataset_name ?predicate (count(?o) as ?predicate_count)\n",
        "WHERE {\n",
        "    ?dataset <http://www.w3.org/1999/02/22-rdf-syntax-ns#type> <\"\"\"+class_URI+\"\"\"> .\n",
        "    ?dataset ?predicate ?o .\n",
        "    OPTIONAL { ?dataset <https://schema.org/name> ?dataset_name . }\n",
        "}\n",
        "GROUP BY ?predicate ?dataset\n",
        "\"\"\"\n",
        "print(query)\n",
        "\n",
        "qres = g.query(query)\n",
        "# for row in qres:\n",
        "#     print(f\"Dataset: {row.dataset_name} Predicate: {row.predicate} Count: {row.predicate_count}\")"
      ],
      "metadata": {
        "id": "FETzlYlTaMG-",
        "colab": {
          "base_uri": "https://localhost:8080/"
        },
        "outputId": "76e28135-a5ac-4d55-82ee-6ee6308933cb"
      },
      "execution_count": 69,
      "outputs": [
        {
          "output_type": "stream",
          "name": "stdout",
          "text": [
            "\n",
            "\n",
            "\n",
            "SELECT ?dataset ?dataset_name ?predicate (count(?o) as ?predicate_count)\n",
            "WHERE {\n",
            "    ?dataset <http://www.w3.org/1999/02/22-rdf-syntax-ns#type> <https://schema.org/Dataset> .\n",
            "    ?dataset ?predicate ?o .\n",
            "    OPTIONAL { ?dataset <https://schema.org/name> ?dataset_name . }\n",
            "}\n",
            "GROUP BY ?predicate ?dataset\n",
            "\n"
          ]
        }
      ]
    },
    {
      "cell_type": "markdown",
      "source": [
        "# Export data"
      ],
      "metadata": {
        "id": "4ZCnnjLuIWxC"
      }
    },
    {
      "cell_type": "markdown",
      "source": [
        "Export to TSV"
      ],
      "metadata": {
        "id": "_gh69DNrMO_-"
      }
    },
    {
      "cell_type": "code",
      "source": [
        "with open(class_URI.split(\"/\")[-1]+\"_query_results.tsv\", \"w\") as outfile:\n",
        "  first_row = True\n",
        "  for row in qres:\n",
        "    if first_row:\n",
        "      for label in row.labels.keys():\n",
        "        outfile.write(label + \"\\t\")\n",
        "      outfile.write(\"\\n\")\n",
        "      first_row = False\n",
        "    for value in row:\n",
        "      outfile.write(value + \"\\t\")\n",
        "    outfile.write(\"\\n\")"
      ],
      "metadata": {
        "id": "uhQk0jWzjpPW"
      },
      "execution_count": 70,
      "outputs": []
    },
    {
      "cell_type": "code",
      "source": [
        "df = pd.read_csv(class_URI.split(\"/\")[-1]+\"_query_results.tsv\", sep = \"\\t\")"
      ],
      "metadata": {
        "id": "PclzrQ32CDSc"
      },
      "execution_count": 71,
      "outputs": []
    },
    {
      "cell_type": "code",
      "source": [
        "predicate_counts = df['predicate'].value_counts()\n",
        "print(predicate_counts)"
      ],
      "metadata": {
        "colab": {
          "base_uri": "https://localhost:8080/"
        },
        "id": "RG_2z09LCWmj",
        "outputId": "a89ec3b0-2d61-48fc-fc29-850f5f5b8a88"
      },
      "execution_count": 72,
      "outputs": [
        {
          "output_type": "stream",
          "name": "stdout",
          "text": [
            "predicate\n",
            "http://www.w3.org/1999/02/22-rdf-syntax-ns#type    21554\n",
            "http://purl.org/dc/terms/conformsTo                21554\n",
            "https://schema.org/alternateName                   21554\n",
            "https://schema.org/creator                         21554\n",
            "https://schema.org/description                     21554\n",
            "https://schema.org/distribution                    21554\n",
            "https://schema.org/keywords                        21554\n",
            "https://schema.org/name                            21554\n",
            "https://schema.org/url                             21554\n",
            "http://mlcommons.org/croissant/recordSet           20195\n",
            "https://schema.org/license                          5065\n",
            "https://schema.org/sameAs                           1883\n",
            "https://schema.org/identifier                        106\n",
            "Name: count, dtype: int64\n"
          ]
        }
      ]
    },
    {
      "cell_type": "code",
      "source": [
        "predicate_counts.to_csv(class_URI.split(\"/\")[-1]+\"_counts.tsv\", sep = \"\\t\")"
      ],
      "metadata": {
        "id": "HKH-E8PB49ow"
      },
      "execution_count": 73,
      "outputs": []
    }
  ]
}